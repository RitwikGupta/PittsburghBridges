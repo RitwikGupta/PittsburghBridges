{
 "cells": [
  {
   "cell_type": "code",
   "execution_count": 46,
   "metadata": {
    "collapsed": false
   },
   "outputs": [],
   "source": [
    "from pandas import DataFrame\n",
    "from __future__ import division\n",
    "import matplotlib.pyplot as plt\n",
    "import numpy as np"
   ]
  },
  {
   "cell_type": "code",
   "execution_count": 11,
   "metadata": {
    "collapsed": false
   },
   "outputs": [],
   "source": [
    "data = DataFrame.from_csv('data', sep=',')"
   ]
  },
  {
   "cell_type": "code",
   "execution_count": 12,
   "metadata": {
    "collapsed": false
   },
   "outputs": [
    {
     "data": {
      "text/html": [
       "<div style=\"max-height:1000px;max-width:1500px;overflow:auto;\">\n",
       "<table border=\"1\" class=\"dataframe\">\n",
       "  <thead>\n",
       "    <tr style=\"text-align: right;\">\n",
       "      <th></th>\n",
       "      <th>RIVER</th>\n",
       "      <th>LOCATION</th>\n",
       "      <th>ERECTED</th>\n",
       "      <th>PURPOSE</th>\n",
       "      <th>LENGTH</th>\n",
       "      <th>LANES</th>\n",
       "      <th>CLEAR-G</th>\n",
       "      <th>T-OR-D</th>\n",
       "      <th>MATERIAL</th>\n",
       "      <th>SPAN</th>\n",
       "      <th>REL-L</th>\n",
       "      <th>TYPE</th>\n",
       "    </tr>\n",
       "  </thead>\n",
       "  <tbody>\n",
       "    <tr>\n",
       "      <th>E1</th>\n",
       "      <td>M</td>\n",
       "      <td>3</td>\n",
       "      <td>CRAFTS</td>\n",
       "      <td>HIGHWAY</td>\n",
       "      <td>?</td>\n",
       "      <td>2</td>\n",
       "      <td>N</td>\n",
       "      <td>THROUGH</td>\n",
       "      <td>WOOD</td>\n",
       "      <td>SHORT</td>\n",
       "      <td>S</td>\n",
       "      <td>WOOD</td>\n",
       "    </tr>\n",
       "    <tr>\n",
       "      <th>E2</th>\n",
       "      <td>A</td>\n",
       "      <td>25</td>\n",
       "      <td>CRAFTS</td>\n",
       "      <td>HIGHWAY</td>\n",
       "      <td>MEDIUM</td>\n",
       "      <td>2</td>\n",
       "      <td>N</td>\n",
       "      <td>THROUGH</td>\n",
       "      <td>WOOD</td>\n",
       "      <td>SHORT</td>\n",
       "      <td>S</td>\n",
       "      <td>WOOD</td>\n",
       "    </tr>\n",
       "    <tr>\n",
       "      <th>E3</th>\n",
       "      <td>A</td>\n",
       "      <td>39</td>\n",
       "      <td>CRAFTS</td>\n",
       "      <td>AQUEDUCT</td>\n",
       "      <td>?</td>\n",
       "      <td>1</td>\n",
       "      <td>N</td>\n",
       "      <td>THROUGH</td>\n",
       "      <td>WOOD</td>\n",
       "      <td>?</td>\n",
       "      <td>S</td>\n",
       "      <td>WOOD</td>\n",
       "    </tr>\n",
       "  </tbody>\n",
       "</table>\n",
       "</div>"
      ],
      "text/plain": [
       "   RIVER LOCATION ERECTED   PURPOSE  LENGTH LANES CLEAR-G   T-OR-D MATERIAL  \\\n",
       "E1     M        3  CRAFTS   HIGHWAY       ?     2       N  THROUGH     WOOD   \n",
       "E2     A       25  CRAFTS   HIGHWAY  MEDIUM     2       N  THROUGH     WOOD   \n",
       "E3     A       39  CRAFTS  AQUEDUCT       ?     1       N  THROUGH     WOOD   \n",
       "\n",
       "     SPAN REL-L  TYPE  \n",
       "E1  SHORT     S  WOOD  \n",
       "E2  SHORT     S  WOOD  \n",
       "E3      ?     S  WOOD  "
      ]
     },
     "execution_count": 12,
     "metadata": {},
     "output_type": "execute_result"
    }
   ],
   "source": [
    "data[:3]"
   ]
  },
  {
   "cell_type": "code",
   "execution_count": 78,
   "metadata": {
    "collapsed": false
   },
   "outputs": [],
   "source": [
    "def riverToNum(x):\n",
    "    if x == '?':\n",
    "        return 100\n",
    "    if x == 'M':\n",
    "        return 1\n",
    "    elif x == 'A':\n",
    "        return 2\n",
    "    else:\n",
    "        return 3\n",
    "    \n",
    "def erectedToNum(x):\n",
    "    if x == '?':\n",
    "        return 100\n",
    "    if x == 'CRAFTS':\n",
    "        return 1\n",
    "    elif x == 'EMERGING':\n",
    "        return 2\n",
    "    elif x == 'MATURE':\n",
    "        return 3\n",
    "    else:\n",
    "        return 4\n",
    "    \n",
    "def purposeToNum(x):\n",
    "    if x == '?':\n",
    "        return 100\n",
    "    if x == 'AQUEDUCT':\n",
    "        return 1\n",
    "    elif x == 'HIGHWAY':\n",
    "        return 2\n",
    "    elif x == 'RR':\n",
    "        return 3\n",
    "    else:\n",
    "        return 4\n",
    "    \n",
    "def lengthToNum(x):\n",
    "    if x == '?':\n",
    "        return 100\n",
    "    if x == 'SHORT':\n",
    "        return 1\n",
    "    elif x == 'MEDIUM':\n",
    "        return 2\n",
    "    else:\n",
    "        return 3\n",
    "\n",
    "def materialToNum(x):\n",
    "    if x == '?':\n",
    "        return 100\n",
    "    if x == 'IRON':\n",
    "        return 1\n",
    "    elif x == 'STEEL':\n",
    "        return 2\n",
    "    else:\n",
    "        return 3\n",
    "    \n",
    "def spanToNum(x):\n",
    "    if x == '?':\n",
    "        return 100\n",
    "    if x == 'SHORT':\n",
    "        return 1\n",
    "    elif x == 'MEDIUM':\n",
    "        return 2\n",
    "    else:\n",
    "        return 3\n",
    "\n",
    "def relLToNum(x):\n",
    "    if x == '?':\n",
    "        return 100\n",
    "    if x == 'F':\n",
    "        return 1\n",
    "    elif x == 'S':\n",
    "        return 2\n",
    "    else:\n",
    "        return 3\n",
    "\n",
    "def typeToNum(x):\n",
    "    if x == '?':\n",
    "        return 100\n",
    "    if x == 'ARCH':\n",
    "        return 1\n",
    "    elif x == 'CANTILEV':\n",
    "        return 2\n",
    "    elif x == 'CONT-T':\n",
    "        return 3\n",
    "    elif x == 'NIL':\n",
    "        return 4\n",
    "    elif x == 'SIMPLE-T':\n",
    "        return 5\n",
    "    elif x == 'SUSPEN':\n",
    "        return 6\n",
    "    else:\n",
    "        return 7\n",
    "    \n",
    "def clearGToNum(x):\n",
    "    if x == '?':\n",
    "        return 100\n",
    "    if x == 'Y':\n",
    "        return 1\n",
    "    else:\n",
    "        return 2\n",
    "\n",
    "def tOrDToNum(x):\n",
    "    if x == '?':\n",
    "        return 100\n",
    "    if x == 'THROUGH':\n",
    "        return 1\n",
    "    else:\n",
    "        return 2"
   ]
  },
  {
   "cell_type": "code",
   "execution_count": 99,
   "metadata": {
    "collapsed": false
   },
   "outputs": [],
   "source": [
    "temp = [\n",
    "        [100 if x == '?' else x for x in data['LOCATION']],\n",
    "        [erectedToNum(x) for x in data['ERECTED']],\n",
    "        [purposeToNum(x) for x in data['PURPOSE']],\n",
    "        [lengthToNum(x) for x in data['LENGTH']],\n",
    "        [100 if x == '?' else x for x in data['LANES']],\n",
    "        [clearGToNum(x) for x in data['CLEAR-G']],\n",
    "        [tOrDToNum(x) for x in data['T-OR-D']],\n",
    "        [materialToNum(x) for x in data['MATERIAL']],\n",
    "        [spanToNum(x) for x in data['SPAN']],\n",
    "        [relLToNum(x) for x in data['REL-L']],\n",
    "        [typeToNum(x) for x in data['TYPE']]\n",
    "        ]\n",
    "total = [x for x in zip(*temp)]\n",
    "training = total[:98]\n",
    "testing = total[98:]"
   ]
  },
  {
   "cell_type": "code",
   "execution_count": 113,
   "metadata": {
    "collapsed": false
   },
   "outputs": [],
   "source": [
    "data_num = {\n",
    "    'data': np.array(training),\n",
    "    'labels':\n",
    "        [riverToNum(x) for x in data['RIVER']][:98]\n",
    "}"
   ]
  },
  {
   "cell_type": "code",
   "execution_count": 114,
   "metadata": {
    "collapsed": false
   },
   "outputs": [
    {
     "data": {
      "text/plain": [
       "{'data': array([['3', '1', '2', ..., '1', '2', '7'],\n",
       "        ['25', '1', '2', ..., '1', '2', '7'],\n",
       "        ['39', '1', '1', ..., '100', '2', '7'],\n",
       "        ..., \n",
       "        ['14', '4', '2', ..., '3', '1', '3'],\n",
       "        ['19', '4', '2', ..., '3', '1', '2'],\n",
       "        ['37', '4', '2', ..., '3', '1', '3']], \n",
       "       dtype='|S4'),\n",
       " 'labels': [1,\n",
       "  2,\n",
       "  2,\n",
       "  2,\n",
       "  1,\n",
       "  2,\n",
       "  2,\n",
       "  1,\n",
       "  2,\n",
       "  2,\n",
       "  2,\n",
       "  1,\n",
       "  2,\n",
       "  2,\n",
       "  2,\n",
       "  1,\n",
       "  2,\n",
       "  2,\n",
       "  2,\n",
       "  1,\n",
       "  1,\n",
       "  2,\n",
       "  3,\n",
       "  1,\n",
       "  2,\n",
       "  1,\n",
       "  2,\n",
       "  2,\n",
       "  1,\n",
       "  2,\n",
       "  1,\n",
       "  3,\n",
       "  1,\n",
       "  3,\n",
       "  2,\n",
       "  1,\n",
       "  1,\n",
       "  2,\n",
       "  2,\n",
       "  1,\n",
       "  1,\n",
       "  1,\n",
       "  3,\n",
       "  1,\n",
       "  2,\n",
       "  1,\n",
       "  1,\n",
       "  2,\n",
       "  2,\n",
       "  1,\n",
       "  2,\n",
       "  1,\n",
       "  2,\n",
       "  1,\n",
       "  1,\n",
       "  1,\n",
       "  2,\n",
       "  1,\n",
       "  3,\n",
       "  1,\n",
       "  2,\n",
       "  3,\n",
       "  3,\n",
       "  2,\n",
       "  1,\n",
       "  3,\n",
       "  2,\n",
       "  2,\n",
       "  2,\n",
       "  2,\n",
       "  2,\n",
       "  2,\n",
       "  2,\n",
       "  2,\n",
       "  3,\n",
       "  2,\n",
       "  1,\n",
       "  1,\n",
       "  2,\n",
       "  1,\n",
       "  2,\n",
       "  1,\n",
       "  3,\n",
       "  3,\n",
       "  1,\n",
       "  1,\n",
       "  2,\n",
       "  2,\n",
       "  2,\n",
       "  2,\n",
       "  3,\n",
       "  3,\n",
       "  3,\n",
       "  1,\n",
       "  1,\n",
       "  1,\n",
       "  1,\n",
       "  2]}"
      ]
     },
     "execution_count": 114,
     "metadata": {},
     "output_type": "execute_result"
    }
   ],
   "source": [
    "data_num"
   ]
  },
  {
   "cell_type": "code",
   "execution_count": 115,
   "metadata": {
    "collapsed": true
   },
   "outputs": [],
   "source": [
    "from sklearn.tree import DecisionTreeClassifier"
   ]
  },
  {
   "cell_type": "code",
   "execution_count": 116,
   "metadata": {
    "collapsed": false
   },
   "outputs": [],
   "source": [
    "clf = DecisionTreeClassifier()"
   ]
  },
  {
   "cell_type": "code",
   "execution_count": 117,
   "metadata": {
    "collapsed": false
   },
   "outputs": [
    {
     "data": {
      "text/plain": [
       "DecisionTreeClassifier(class_weight=None, criterion='gini', max_depth=None,\n",
       "            max_features=None, max_leaf_nodes=None, min_samples_leaf=1,\n",
       "            min_samples_split=2, min_weight_fraction_leaf=0.0,\n",
       "            random_state=None, splitter='best')"
      ]
     },
     "execution_count": 117,
     "metadata": {},
     "output_type": "execute_result"
    }
   ],
   "source": [
    "clf.fit(data_num['data'], data_num['labels'])"
   ]
  },
  {
   "cell_type": "code",
   "execution_count": 126,
   "metadata": {
    "collapsed": false
   },
   "outputs": [
    {
     "name": "stdout",
     "output_type": "stream",
     "text": [
      "[('42', 4, 2, 1, 100, 2, 1, 2, 100, 1, 5), ('47', 4, 2, 2, '2', 2, 1, 2, 3, 1, 3), ('1', 4, 2, 2, '6', 2, 1, 2, 3, 1, 1), ('33', 4, 2, 1, '4', 2, 2, 2, 2, 3, 3), ('9', 4, 2, 3, '4', 2, 2, 2, 3, 1, 3), ('24', 4, 2, 1, '6', 2, 1, 2, 2, 1, 1), ('44', 4, 2, 3, '6', 2, 1, 2, 3, 1, 1), ('7', 4, 2, 1, '6', 2, 1, 2, 3, 1, 1), ('43', 4, 2, 100, 100, 2, 100, 100, 100, 1, 100), ('28', 4, 2, 100, 100, 2, 100, 100, 100, 1, 100)]\n"
     ]
    },
    {
     "data": {
      "text/plain": [
       "['O', 'O', 'M', 'A', 'M', 'A', 'O', 'M', 'O', 'A']"
      ]
     },
     "execution_count": 126,
     "metadata": {},
     "output_type": "execute_result"
    }
   ],
   "source": [
    "print testing\n",
    "results = clf.predict(testing)\n",
    "\n",
    "['M' if x == 1 else 'A' if x == 2 else 'O' for x in results]      "
   ]
  }
 ],
 "metadata": {
  "kernelspec": {
   "display_name": "Python 2",
   "language": "python",
   "name": "python2"
  },
  "language_info": {
   "codemirror_mode": {
    "name": "ipython",
    "version": 2
   },
   "file_extension": ".py",
   "mimetype": "text/x-python",
   "name": "python",
   "nbconvert_exporter": "python",
   "pygments_lexer": "ipython2",
   "version": "2.7.6"
  }
 },
 "nbformat": 4,
 "nbformat_minor": 0
}
